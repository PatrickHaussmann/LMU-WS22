{
 "cells": [
  {
   "cell_type": "code",
   "execution_count": null,
   "id": "a12b82e6",
   "metadata": {},
   "outputs": [],
   "source": [
    "import numpy as np\n",
    "import matplotlib.pyplot as plt\n",
    "from scipy.signal import TransferFunction\n",
    "import math"
   ]
  },
  {
   "cell_type": "markdown",
   "id": "92a901c4",
   "metadata": {},
   "source": [
    "# 0"
   ]
  },
  {
   "cell_type": "code",
   "execution_count": null,
   "id": "f0e41891",
   "metadata": {},
   "outputs": [],
   "source": [
    "num = np.array([1, 0])  # 1 * s^1 + 0 * s^0\n",
    "dem = np.array([0.01, 1])  # 0.01 * s^1 + 1 * s^0\n",
    "T = TransferFunction(num, dem)\n",
    "\n",
    "print(\"poles:\", T.poles)\n",
    "print(\"zeros:\", T.zeros)\n",
    "\n",
    "# ---\n",
    "\n",
    "omega = np.logspace(0, 5, 1000)  # 1000 points logarithmically spaced between 0 and 10^5\n",
    "omega, magnitude, phase = T.bode(w=omega)\n",
    "\n",
    "fig, (ax1, ax2) = plt.subplots(\n",
    "    2, 1, sharex=True, constrained_layout=True, figsize=(8, 4)\n",
    ")\n",
    "\n",
    "ax1.semilogx(omega, magnitude, \"k\")\n",
    "ax1.grid(True, c=\"0.8\")\n",
    "ax1.set_ylabel(\"Gain (dB)\")\n",
    "\n",
    "ax2.semilogx(omega, phase, \"k\")\n",
    "ax2.grid(True, c=\"0.8\")\n",
    "ax2.set_xlabel(\"Frequency $\\omega$ (rad/s)\")\n",
    "ax2.set_ylabel(\"Phase (deg)\")\n",
    "tick_range = (math.floor(min(phase) / 45) * 45, math.ceil(max(phase) / 45) * 45)\n",
    "ax2.set_yticks(np.arange(tick_range[0], tick_range[1], 45))\n",
    "\n",
    "plt.xlim(omega[0], omega[-1])\n",
    "\n",
    "# ---\n",
    "\n",
    "_time = np.linspace(0, 0.5, 1000)\n",
    "time, signal = T.step(T=_time)\n",
    "fig, ax = plt.subplots(1, 1, figsize=(6, 3))\n",
    "ax.plot(time, signal, \"k\")\n",
    "ax.grid(True, c=\"0.8\")\n",
    "ax.set_xlabel(\"Time (s)\")\n",
    "ax.set_ylabel(\"Signal (arb. units)\")\n",
    "\n",
    "pass"
   ]
  },
  {
   "cell_type": "markdown",
   "id": "bafb98fc",
   "metadata": {},
   "source": [
    "# 1.b,c"
   ]
  },
  {
   "cell_type": "code",
   "execution_count": null,
   "id": "c836a548",
   "metadata": {},
   "outputs": [],
   "source": [
    "m = 0.02  # kg\n",
    "k = 400  # N/m = kg/s^2\n",
    "𝛾s = [0.1, 0.5, 6]  # kg/s\n",
    "\n",
    "fig, ax = plt.subplots(1, 1, figsize=(8, 5))\n",
    "ax.grid(True, c=\"0.8\")\n",
    "ax.set_xlabel(\"Time (ms)\")\n",
    "ax.set_ylabel(\"Position (mm)\")\n",
    "\n",
    "for 𝛾 in 𝛾s:\n",
    "    T = TransferFunction([1], [m, 𝛾, k])\n",
    "    time, signal = T.step(T=np.linspace(0, 0.5, 1000))\n",
    "    ax.plot(time * 1e3, signal * 1e3, label=𝛾)\n",
    "\n",
    "ax.legend(title=\"γ\")\n",
    "pass"
   ]
  },
  {
   "cell_type": "markdown",
   "id": "0c984917",
   "metadata": {},
   "source": [
    "# 1.d"
   ]
  },
  {
   "cell_type": "code",
   "execution_count": null,
   "id": "566e4209",
   "metadata": {},
   "outputs": [],
   "source": [
    "omega = np.logspace(0, 4, 1000)\n",
    "fig, (ax1, ax2) = plt.subplots(\n",
    "    2, 1, sharex=True, constrained_layout=True, figsize=(8, 5)\n",
    ")\n",
    "\n",
    "ax1.grid(True, c=\"0.8\")\n",
    "ax1.set_ylabel(\"Gain (dB)\")\n",
    "\n",
    "ax2.grid(True, c=\"0.8\")\n",
    "ax2.set_xlabel(\"Frequency $\\omega$ (rad/s)\")\n",
    "ax2.set_ylabel(\"Phase (deg)\")\n",
    "\n",
    "tick_range = [math.inf, -math.inf]\n",
    "\n",
    "for 𝛾 in 𝛾s:\n",
    "    T = TransferFunction([1], [m, 𝛾, k])\n",
    "    omega, magnitude, phase = T.bode(w=omega)\n",
    "    ax2.semilogx(omega, phase, label=𝛾)\n",
    "    ax1.semilogx(omega, magnitude, label=𝛾)\n",
    "    _tick_range = (math.floor(min(phase) / 45) * 45, math.ceil(max(phase) / 45) * 45)\n",
    "    tick_range = (\n",
    "        min(_tick_range[0], tick_range[0]),\n",
    "        max(_tick_range[1], tick_range[1]),\n",
    "    )\n",
    "\n",
    "ax1.legend(title=\"γ\")\n",
    "ax2.legend(title=\"γ\")\n",
    "ax2.set_yticks(np.arange(tick_range[0], tick_range[1], 45))\n",
    "plt.xlim(omega[0], omega[-1])\n",
    "pass"
   ]
  },
  {
   "cell_type": "markdown",
   "id": "202c9e51",
   "metadata": {},
   "source": [
    "# 1.e"
   ]
  },
  {
   "cell_type": "code",
   "execution_count": null,
   "id": "67c80d6d",
   "metadata": {},
   "outputs": [],
   "source": [
    "for 𝛾 in 𝛾s:\n",
    "    T = TransferFunction([1], [m, 𝛾, k])\n",
    "    for pole in T.poles:\n",
    "        print(\n",
    "            \"γ=\",\n",
    "            \"{:.1f}\".format(𝛾),\n",
    "            \" -> \",\n",
    "            \"{num.real:+0.04f} {num.imag:+0.04f}j\".format(num=pole),\n",
    "            sep=\"\",\n",
    "        )\n",
    "    print()"
   ]
  },
  {
   "cell_type": "markdown",
   "id": "e2d28e4f",
   "metadata": {},
   "source": [
    "# 1.g"
   ]
  },
  {
   "cell_type": "code",
   "execution_count": null,
   "id": "f76dcf5f",
   "metadata": {},
   "outputs": [],
   "source": [
    "m = 0.02  # kg\n",
    "k = 400  # N/m = kg/s^2\n",
    "𝛾 = 0.1  # kg/s\n",
    "\n",
    "fig, ax = plt.subplots(1, 1, figsize=(8, 5))\n",
    "ax.grid(True, c=\"0.8\")\n",
    "ax.set_xlabel(\"Time (ms)\")\n",
    "ax.set_ylabel(\"Position (mm)\")\n",
    "\n",
    "Kps = [10, 30, 1000]\n",
    "\n",
    "for Kp in Kps:\n",
    "    T = TransferFunction([Kp], [m, 𝛾, Kp + k])\n",
    "    time, signal = T.step(T=np.linspace(0, 0.5, 1000))\n",
    "    ax.plot(time * 1e3, signal * 1e3, label=Kp)\n",
    "\n",
    "ax.legend(title=\"$K_P$\")\n",
    "pass"
   ]
  },
  {
   "cell_type": "code",
   "execution_count": null,
   "id": "783ae386",
   "metadata": {},
   "outputs": [],
   "source": [
    "fig, ax = plt.subplots(1, 1, figsize=(8, 5))\n",
    "ax.grid(True, c=\"0.8\")\n",
    "ax.set_xlabel(\"Time (ms)\")\n",
    "ax.set_ylabel(\"Position (mm)\")\n",
    "\n",
    "Kds = [1, 10, 100]\n",
    "\n",
    "for Kd in Kds:\n",
    "    T = TransferFunction([1], [m / Kd, 1])\n",
    "    time, signal = T.step(T=np.linspace(0, 0.5, 1000))\n",
    "    ax.plot(time * 1e3, signal * 1e3, label=Kd)\n",
    "\n",
    "ax.legend(title=\"$K_D$\")\n",
    "pass"
   ]
  },
  {
   "cell_type": "markdown",
   "id": "84fbc868",
   "metadata": {},
   "source": [
    "# 2.1"
   ]
  },
  {
   "cell_type": "code",
   "execution_count": null,
   "id": "9611782d",
   "metadata": {},
   "outputs": [],
   "source": [
    "fig, (ax1, ax2) = plt.subplots(\n",
    "    1, 2, sharey=True, constrained_layout=True, figsize=(15, 5)\n",
    ")\n",
    "ax1.grid(True, c=\"0.8\")\n",
    "ax1.set_xlabel(\"n\")\n",
    "ax1.set_ylabel(\"y(n)\")\n",
    "\n",
    "ax2.grid(True, c=\"0.8\")\n",
    "ax2.set_xlabel(\"n\")\n",
    "\n",
    "Ks = [0.1, 0.5, 1]\n",
    "for K in Ks:\n",
    "    y = [0, 1]\n",
    "    for n in range(2, 101):\n",
    "        y.append(1 - K * y[-1])\n",
    "    ax2.plot(list(range(len(y))), y, label=K)\n",
    "    y = y[:11]\n",
    "    ax1.plot(list(range(len(y))), y, label=K)\n",
    "\n",
    "\n",
    "ax1.legend(title=\"$K$\")\n",
    "ax2.legend(title=\"$K$\")\n",
    "pass"
   ]
  },
  {
   "cell_type": "code",
   "execution_count": null,
   "id": "684b6090",
   "metadata": {},
   "outputs": [],
   "source": []
  }
 ],
 "metadata": {
  "language_info": {
   "name": "python",
   "pygments_lexer": "ipython3"
  }
 },
 "nbformat": 4,
 "nbformat_minor": 5
}
