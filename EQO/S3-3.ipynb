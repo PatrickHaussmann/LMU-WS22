{
 "cells": [
  {
   "cell_type": "code",
   "execution_count": null,
   "id": "9344b79b",
   "metadata": {},
   "outputs": [],
   "source": [
    "import numpy as np\n",
    "import matplotlib.pyplot as plt\n",
    "import math"
   ]
  },
  {
   "cell_type": "markdown",
   "id": "59ef96b2",
   "metadata": {},
   "source": [
    "# 1.c"
   ]
  },
  {
   "cell_type": "code",
   "execution_count": null,
   "id": "55fbdba1",
   "metadata": {},
   "outputs": [],
   "source": [
    "cutoff_frequency = 1e3 * 1e-9  # Ohm * Farad = Hz\n",
    "low_pass = lambda x: 1 / (1 + (x * cutoff_frequency) ** 2)\n",
    "high_pass = lambda x: 1 / (1 + 1 / (x * cutoff_frequency) ** 2)\n",
    "frequencies = np.logspace(3, 9, 1000)\n",
    "\n",
    "plt.loglog(frequencies, low_pass(frequencies), label=\"low-pass\")\n",
    "plt.loglog(frequencies, high_pass(frequencies), label=\"high-pass\")\n",
    "plt.ylabel(\"Gain\")\n",
    "plt.xlabel(\"Frequency (Hz)\")\n",
    "plt.legend()\n",
    "\n",
    "pass"
   ]
  },
  {
   "cell_type": "markdown",
   "id": "2136d794",
   "metadata": {},
   "source": [
    "# 2"
   ]
  },
  {
   "cell_type": "code",
   "execution_count": null,
   "id": "ef7b5be0",
   "metadata": {},
   "outputs": [],
   "source": [
    "ms = 1e-3\n",
    "\n",
    "\n",
    "def plot_y():\n",
    "    fig, ax = plt.subplots(1, 1, figsize=(8, 5))\n",
    "    ax.grid(True, c=\"0.8\")\n",
    "    ax.set_xlabel(\"$t$ [ms]\")\n",
    "    ax.set_ylabel(\"$y(t)$\")\n",
    "    return ax"
   ]
  },
  {
   "cell_type": "markdown",
   "id": "bebb12a2",
   "metadata": {},
   "source": [
    "# 2.c"
   ]
  },
  {
   "cell_type": "code",
   "execution_count": null,
   "id": "c48eb2be",
   "metadata": {},
   "outputs": [],
   "source": [
    "y = lambda t: 1 - np.exp(-t/(10*ms))\n",
    "\n",
    "time = np.linspace(0, 100 * ms, 500)\n",
    "ax = plot_y()\n",
    "\n",
    "ax.plot(time / ms, y(time))\n",
    "print(\"no overshooting\")"
   ]
  },
  {
   "cell_type": "markdown",
   "id": "858a0c29",
   "metadata": {},
   "source": [
    "# 2.f"
   ]
  },
  {
   "cell_type": "code",
   "execution_count": null,
   "id": "16257a9c",
   "metadata": {},
   "outputs": [],
   "source": [
    "def y(t, 𝜁):\n",
    "    𝜔0 = 2 * np.pi / ms\n",
    "    if 𝜁 < 1:\n",
    "        a = np.sqrt(1 - 𝜁**2)\n",
    "        return 1 - np.exp(-𝜁 * 𝜔0 * t) / a * np.sin(𝜔0 * a * t + np.arctan(a / 𝜁))\n",
    "    elif 𝜁 == 1:\n",
    "        return 1 - np.exp(-𝜔0 * t) - t * 𝜔0 * np.exp(-𝜔0 * t)\n",
    "    elif 𝜁 > 1:\n",
    "        b = np.exp(-𝜁 * 𝜔0 * t)\n",
    "        c = np.sqrt(𝜁**2 - 1)\n",
    "        d = 𝜔0 * c * t\n",
    "        return 1 - b * np.cosh(d) - 𝜁 / c * b * np.sinh(d)\n",
    "\n",
    "\n",
    "time = np.linspace(0, 3 * ms, 500)\n",
    "ax = plot_y()\n",
    "\n",
    "for 𝜁 in (1 / 2, 1, 3 / 2):\n",
    "    ax.plot(time / ms, y(time, 𝜁), label=𝜁)\n",
    "\n",
    "ax.legend(title=\"ζ\")\n",
    "pass"
   ]
  },
  {
   "cell_type": "markdown",
   "id": "52a47ba1",
   "metadata": {},
   "source": [
    "# 2.g"
   ]
  },
  {
   "cell_type": "code",
   "execution_count": null,
   "id": "ea326c3d",
   "metadata": {},
   "outputs": [],
   "source": [
    "time = np.linspace(0, 2 * ms, 500)\n",
    "ax = plot_y()\n",
    "for 𝜁 in (0.01, 0.1, 0.2, 0.4, 0.6):\n",
    "    ax.plot(time / ms, y(time, 𝜁), label=𝜁)\n",
    "\n",
    "ax.legend(title=\"ζ\")\n",
    "print(\"overshoot if ζ<1\")\n",
    "print(\"larger overshoot for smaller ζ\")"
   ]
  },
  {
   "cell_type": "markdown",
   "id": "a7bab8af",
   "metadata": {},
   "source": [
    "# 3."
   ]
  },
  {
   "cell_type": "code",
   "execution_count": null,
   "id": "79cf9904",
   "metadata": {},
   "outputs": [],
   "source": [
    "tau = np.pi * 2\n",
    "\n",
    "\n",
    "def unwrap(x):\n",
    "    try:\n",
    "        return np.unwrap(x)\n",
    "    except:\n",
    "        return x\n",
    "\n",
    "\n",
    "magnitude_calc = lambda f, s: 20 * np.log10(np.abs(f(s)))\n",
    "phase_calc = lambda f, s: 180 / np.pi * unwrap(np.angle(f(s)))\n",
    "\n",
    "\n",
    "def bode_plot(func, f_min, f_max, n_points=1000):\n",
    "    omega_scalar = np.logspace(np.log10(f_min), np.log10(f_max), n_points)\n",
    "    omega = tau * omega_scalar\n",
    "    magnitude = magnitude_calc(func, 1j * omega)\n",
    "    phase = phase_calc(func, 1j * omega)\n",
    "    fig, (ax1, ax2) = plt.subplots(\n",
    "        2, 1, sharex=True, constrained_layout=True, figsize=(8, 5)\n",
    "    )\n",
    "\n",
    "    ax1.semilogx(omega_scalar, magnitude, \"k\")\n",
    "    ax1.grid(True, c=\"0.8\")\n",
    "    ax1.set_ylabel(\"Magnitude (dB)\")\n",
    "\n",
    "    ax2.semilogx(omega_scalar, phase, \"k\")\n",
    "    ax2.grid(True, c=\"0.8\")\n",
    "    ax2.set_xlabel(\"Frequency $f$ (Hz)\")\n",
    "    ax2.set_ylabel(\"Phase (deg)\")\n",
    "    tick_range = (math.floor(min(phase) / 45) * 45, math.ceil(max(phase) / 45) * 45)\n",
    "    ax2.set_yticks(np.arange(tick_range[0], tick_range[1], 45))\n",
    "\n",
    "    plt.xlim(omega_scalar[0], omega_scalar[-1])\n",
    "    return (ax1, ax2)"
   ]
  },
  {
   "cell_type": "markdown",
   "id": "7638292e",
   "metadata": {},
   "source": [
    "# 3.a"
   ]
  },
  {
   "cell_type": "markdown",
   "id": "037ee052",
   "metadata": {},
   "source": [
    "$𝑇(𝑠) = 10^{12}(2\\pi × 1 \\text{Hz})^2(𝑠 + 2\\pi × 1 \\text{Hz}) \\left/ \\left((𝑠 + 2\\pi × 1 \\text{kHz}) (𝑠 + 2\\pi × 1 \\text{MHz})^2\\right)\\right.$"
   ]
  },
  {
   "cell_type": "code",
   "execution_count": null,
   "id": "3879f479",
   "metadata": {},
   "outputs": [],
   "source": [
    "T = lambda s: 1e12 * tau**2 * (s + tau * 1) / ((s + tau * 1e3) * (s + tau * 1e6) ** 2)\n",
    "\n",
    "bode_plot(T, 1e-3, 1e9)\n",
    "pass"
   ]
  },
  {
   "cell_type": "markdown",
   "id": "45211ec7",
   "metadata": {},
   "source": [
    "# 3.c"
   ]
  },
  {
   "cell_type": "code",
   "execution_count": null,
   "id": "d9ecef24",
   "metadata": {},
   "outputs": [],
   "source": [
    "axs = bode_plot(T, 1e-3, 1e9)\n",
    "zeros_f = np.array([1e0])\n",
    "poles_f = np.array([1e3, 1e6])\n",
    "for ax in axs:\n",
    "    for f in zeros_f:\n",
    "        ax.axvline(x=f, c=\"b\", ls=\"--\")\n",
    "    for f in poles_f:\n",
    "        ax.axvline(x=f, c=\"r\", ls=\"--\")\n",
    "\n",
    "corner_f = np.concatenate((zeros_f, poles_f))\n",
    "omega = tau * corner_f\n",
    "phase = phase_calc(T, 1j * omega)\n",
    "print(\"phase at corner f's: \", phase)\n",
    "print(\"phase/45° at corner f's: \", phase / 45)\n",
    "print(\"⇒ all are ≈//45°\")"
   ]
  },
  {
   "cell_type": "markdown",
   "id": "c18d8295",
   "metadata": {},
   "source": [
    "$𝑇_2(𝑠) = (2\\pi × 1 \\text{kHz}) \\left/ \\left((𝑠 + 2\\pi × 1 \\text{kHz})\\right)\\right. $"
   ]
  },
  {
   "cell_type": "code",
   "execution_count": null,
   "id": "5970b482",
   "metadata": {},
   "outputs": [],
   "source": [
    "T2 = lambda s: (tau**2 * 1e3) / (s + tau * 1e3)  # Hz\n",
    "\n",
    "axs = bode_plot(T2, 1e-1, 1e7)\n",
    "for ax in axs:\n",
    "    ax.axvline(x=1e3, c=\"r\", ls=\"--\")"
   ]
  },
  {
   "cell_type": "markdown",
   "id": "79795229",
   "metadata": {},
   "source": [
    "# 3.f"
   ]
  },
  {
   "cell_type": "code",
   "execution_count": null,
   "id": "67fd8ff2",
   "metadata": {},
   "outputs": [],
   "source": [
    "print(\"magnitude: {}\".format(magnitude_calc(T, 0)))\n",
    "print(\"phase: {}\".format(phase_calc(T, 0)))"
   ]
  },
  {
   "cell_type": "code",
   "execution_count": null,
   "id": "f4c99835",
   "metadata": {},
   "outputs": [],
   "source": [
    "print(\"magnitude: {}\".format(magnitude_calc(T2, 0)))\n",
    "print(\"phase: {}\".format(phase_calc(T2, 0)))"
   ]
  },
  {
   "cell_type": "code",
   "execution_count": null,
   "id": "e17b4b9b",
   "metadata": {},
   "outputs": [],
   "source": []
  }
 ],
 "metadata": {
  "language_info": {
   "name": "python",
   "pygments_lexer": "ipython3"
  }
 },
 "nbformat": 4,
 "nbformat_minor": 5
}
