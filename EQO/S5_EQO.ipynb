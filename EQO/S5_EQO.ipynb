{
 "cells": [
  {
   "cell_type": "code",
   "execution_count": null,
   "id": "0f090545",
   "metadata": {},
   "outputs": [],
   "source": [
    "import numpy as np\n",
    "import matplotlib.pyplot as plt\n",
    "from scipy.signal import TransferFunction\n",
    "import math"
   ]
  },
  {
   "cell_type": "markdown",
   "id": "5175c29e",
   "metadata": {},
   "source": [
    "# 1.a"
   ]
  },
  {
   "cell_type": "code",
   "execution_count": null,
   "id": "fa07891e-59f6-4d72-91cb-0ea363e20175",
   "metadata": {},
   "outputs": [],
   "source": [
    "num = np.array([1, 0])  # 1 * s^1 + 0 * s^0\n",
    "dem = np.array([0.01, 1])  # 0.01 * s^1 + 1 * s^0\n",
    "T = TransferFunction(num, dem)\n",
    "\n",
    "print(\"poles:\", T.poles)\n",
    "print(\"zeros:\", T.zeros)\n",
    "\n",
    "# ---\n",
    "\n",
    "omega = np.logspace(0, 5, 1000)  # 1000 points logarithmically spaced between 0 and 10^5\n",
    "omega, magnitude, phase = T.bode(w=omega)\n",
    "\n",
    "fig, (ax1, ax2) = plt.subplots(\n",
    "    2, 1, sharex=True, constrained_layout=True, figsize=(8, 4)\n",
    ")\n",
    "\n",
    "ax1.semilogx(omega, magnitude, \"k\")\n",
    "ax1.grid(True, c=\"0.8\")\n",
    "ax1.set_ylabel(\"Gain (dB)\")\n",
    "\n",
    "ax2.semilogx(omega, phase, \"k\")\n",
    "ax2.grid(True, c=\"0.8\")\n",
    "ax2.set_xlabel(\"Frequency $\\omega$ (rad/s)\")\n",
    "ax2.set_ylabel(\"Phase (deg)\")\n",
    "tick_range = (math.floor(min(phase) / 45) * 45, math.ceil(max(phase) / 45) * 45)\n",
    "ax2.set_yticks(np.arange(tick_range[0], tick_range[1], 45))\n",
    "\n",
    "plt.xlim(omega[0], omega[-1])\n",
    "\n",
    "# ---\n",
    "\n",
    "_time = np.linspace(0, 0.5, 1000)\n",
    "time, signal = T.step(T=_time)\n",
    "fig, ax = plt.subplots(1, 1, figsize=(6, 3))\n",
    "ax.plot(time, signal, \"k\")\n",
    "ax.grid(True, c=\"0.8\")\n",
    "ax.set_xlabel(\"Time (s)\")\n",
    "ax.set_ylabel(\"Signal (arb. units)\")\n",
    "\n",
    "pass"
   ]
  },
  {
   "cell_type": "code",
   "execution_count": null,
   "id": "e64b1208-9b9a-43db-a141-9edae3ab486f",
   "metadata": {},
   "outputs": [],
   "source": []
  }
 ],
 "metadata": {
  "language_info": {
   "name": "python",
   "pygments_lexer": "ipython3"
  }
 },
 "nbformat": 4,
 "nbformat_minor": 5
}
