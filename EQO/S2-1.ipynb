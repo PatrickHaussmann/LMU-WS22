{
 "cells": [
  {
   "cell_type": "code",
   "execution_count": null,
   "id": "84083213",
   "metadata": {},
   "outputs": [],
   "source": [
    "import numpy as np\n",
    "import matplotlib.pyplot as plt"
   ]
  },
  {
   "cell_type": "markdown",
   "id": "b6bf4ba0",
   "metadata": {},
   "source": [
    "# 1.a"
   ]
  },
  {
   "cell_type": "code",
   "execution_count": null,
   "id": "d40aef57",
   "metadata": {},
   "outputs": [],
   "source": [
    "N = 128\n",
    "f1 = 1  # in Hz\n",
    "f2 = N + f1\n",
    "\n",
    "t = np.linspace(0, 1, N, endpoint=False)\n",
    "x1_t = np.cos(2 * np.pi * t * f1)\n",
    "x2_t = np.cos(2 * np.pi * t * f2)\n",
    "\n",
    "fig, (ax1, ax2) = plt.subplots(\n",
    "    1, 2, constrained_layout=True, sharey=True, figsize=(10, 5)\n",
    ")\n",
    "fig.suptitle(\"N={0} Sample points\".format(N), fontsize=16)\n",
    "ax1.set_ylabel(\"Signal (V)\")\n",
    "\n",
    "ax1.set_title(\"f1={0}Hz\".format(f1))\n",
    "ax1.set_xlabel(\"Time (s)\")\n",
    "ax1.plot(t, x1_t, \".-\")\n",
    "\n",
    "ax2.set_title(\"f2={0}Hz\".format(f2))\n",
    "ax2.set_xlabel(\"Time (s)\")\n",
    "ax2.plot(t, x2_t, \".-\");"
   ]
  },
  {
   "cell_type": "markdown",
   "id": "a3ab91cd",
   "metadata": {},
   "source": [
    "# 1.c"
   ]
  },
  {
   "cell_type": "code",
   "execution_count": null,
   "id": "94dbfe7f",
   "metadata": {},
   "outputs": [],
   "source": [
    "# we only work with the second data from now on\n",
    "f = f2\n",
    "x_t = x2_t\n",
    "\n",
    "\n",
    "def periodogram(x, t):\n",
    "    delta_t = t[1] - t[0]\n",
    "    frequencies = np.fft.rfftfreq(\n",
    "        len(t), delta_t\n",
    "    )  # frequencies for each element of the periodogram\n",
    "    X_tilde = np.fft.rfft(x)\n",
    "    S_per = 2 / len(t) * np.power(np.abs(X_tilde), 2)\n",
    "    return (frequencies, S_per)\n",
    "\n",
    "\n",
    "def plot_S(fs, S_f, title=\"$S^{per}_N(f_i)$\"):\n",
    "    fig, ax = plt.subplots(1, 1, figsize=(7, 5))\n",
    "    fig.suptitle(title, fontsize=16)\n",
    "    ax.set_ylabel(\"(W/Hz)\")  # is this correct?\n",
    "    ax.set_xlabel(\"f (Hz)\")\n",
    "    ax.plot(fs, S_f, \".\")\n",
    "    ax.set_ylim(bottom=0)"
   ]
  },
  {
   "cell_type": "code",
   "execution_count": null,
   "id": "f088bf78",
   "metadata": {},
   "outputs": [],
   "source": [
    "fs, S_f = periodogram(x_t, t)\n",
    "plot_S(fs, S_f)"
   ]
  },
  {
   "cell_type": "markdown",
   "id": "4a9e5f5e",
   "metadata": {},
   "source": [
    "# 1.d"
   ]
  },
  {
   "cell_type": "code",
   "execution_count": null,
   "id": "dca2597d",
   "metadata": {},
   "outputs": [],
   "source": [
    "x_noise_t = np.random.normal(loc=0, scale=1, size=len(t))\n",
    "\n",
    "fs, S = periodogram(x_noise_t, t)\n",
    "plot_S(fs, S, title=\"$^{noise}S^{per}_N(f_i)$\")\n",
    "\n",
    "print(\"→ doesn't seem to be constant (as one would expect from white noise)\")"
   ]
  },
  {
   "cell_type": "markdown",
   "id": "52cbdce4",
   "metadata": {},
   "source": [
    "# 1.e"
   ]
  },
  {
   "cell_type": "code",
   "execution_count": null,
   "id": "3d0b8560",
   "metadata": {},
   "outputs": [],
   "source": [
    "stretch_factor = 100\n",
    "t_long = np.linspace(0, 1 * stretch_factor, N * stretch_factor, endpoint=False)\n",
    "x_longnoise_t = np.random.normal(loc=0, scale=1, size=len(t_long))\n",
    "\n",
    "fs, S_long = periodogram(x_longnoise_t, t_long)\n",
    "plot_S(fs, S_long, title=\"$^{long noise}S^{per}_N(f_i)$\")\n",
    "\n",
    "print(\"→ still not constant\")"
   ]
  },
  {
   "cell_type": "code",
   "execution_count": null,
   "id": "1ba66c65",
   "metadata": {},
   "outputs": [],
   "source": [
    "print(\"variance of noise:     \", np.var(S))\n",
    "print(\"variance of long noise:\", np.var(S_long))\n",
    "print(\" ⇒ both are similar and ≈4*𝜎(x)=4\")  # I excpected a decrease"
   ]
  },
  {
   "cell_type": "markdown",
   "id": "eb8e009a",
   "metadata": {},
   "source": [
    "# 1.f"
   ]
  },
  {
   "cell_type": "code",
   "execution_count": null,
   "id": "de895d1a",
   "metadata": {},
   "outputs": [],
   "source": [
    "sigmas = np.arange(0, 10, 1)\n",
    "vars = []\n",
    "for sigma in sigmas:\n",
    "    x_noise_t = np.random.normal(loc=0, scale=sigma, size=len(t_long))\n",
    "    fs, S = periodogram(x_noise_t, t_long)\n",
    "    vars.append(np.var(S))\n",
    "vars = np.array(vars)\n",
    "\n",
    "fig, (ax1, ax2) = plt.subplots(\n",
    "    2, 1, constrained_layout=True, sharex=True, figsize=(7, 7)\n",
    ")\n",
    "fig.suptitle(\"variance of periodogram (v)\", fontsize=16)\n",
    "ax1.set_ylabel(\"v\")\n",
    "s = np.linspace(sigmas[0], sigmas[-1])\n",
    "ax1.plot(s, 4 * np.power(s, 4), label=\"$4𝜎^4$\")\n",
    "ax1.plot(sigmas, vars, \".\", label=\"variance\")\n",
    "ax1.legend()\n",
    "\n",
    "ax2.set_xlabel(\"std. deviation of signal\")\n",
    "ax2.set_ylabel(\"fit plot: $(v/4)^{1/4}$\")\n",
    "s = np.linspace(sigmas[0], sigmas[-1])\n",
    "ax2.plot(s, s, label=\"$𝜎$\")\n",
    "ax2.plot(sigmas, np.power(vars / 4, 1 / 4), \".\", label=\"$(v/4)^{1/4}$\")\n",
    "ax2.legend();"
   ]
  },
  {
   "cell_type": "markdown",
   "id": "f1ac3e3a",
   "metadata": {},
   "source": [
    "# 1.g"
   ]
  },
  {
   "cell_type": "code",
   "execution_count": null,
   "id": "b57aa874",
   "metadata": {},
   "outputs": [],
   "source": [
    "S_sum = np.zeros(len(t) // 2 + 1)\n",
    "n = 10000\n",
    "for i in range(n):\n",
    "    x_noise_t = np.random.normal(loc=0, scale=1, size=len(t))\n",
    "    fs, S = periodogram(x_noise_t, t)\n",
    "    S_sum += S\n",
    "S_avg = S_sum / n\n",
    "\n",
    "plot_S(fs, S_avg, title=\"$^{avg}S^{per}_N(f_i)$\")\n",
    "\n",
    "print(\"variance of avg of S_avg:\", np.var(S_avg))"
   ]
  },
  {
   "cell_type": "code",
   "execution_count": null,
   "id": "c8901464",
   "metadata": {},
   "outputs": [],
   "source": []
  }
 ],
 "metadata": {
  "language_info": {
   "name": "python",
   "pygments_lexer": "ipython3"
  }
 },
 "nbformat": 4,
 "nbformat_minor": 5
}
